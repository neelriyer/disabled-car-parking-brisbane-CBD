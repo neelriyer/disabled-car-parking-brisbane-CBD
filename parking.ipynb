{
 "cells": [
  {
   "cell_type": "code",
   "execution_count": 2,
   "metadata": {},
   "outputs": [],
   "source": [
    "#data preprocessing\n",
    "import pandas as pd\n",
    "#math operations\n",
    "import numpy as np\n",
    "#data visualization\n",
    "import matplotlib.pyplot as plt\n",
    "#seaborn plotting\n",
    "import seaborn as sns"
   ]
  },
  {
   "cell_type": "code",
   "execution_count": 3,
   "metadata": {},
   "outputs": [],
   "source": [
    "df = pd.read_csv(\"disability-permit-parking.csv\")"
   ]
  },
  {
   "cell_type": "code",
   "execution_count": 4,
   "metadata": {},
   "outputs": [
    {
     "data": {
      "text/html": [
       "<div>\n",
       "<style scoped>\n",
       "    .dataframe tbody tr th:only-of-type {\n",
       "        vertical-align: middle;\n",
       "    }\n",
       "\n",
       "    .dataframe tbody tr th {\n",
       "        vertical-align: top;\n",
       "    }\n",
       "\n",
       "    .dataframe thead th {\n",
       "        text-align: right;\n",
       "    }\n",
       "</style>\n",
       "<table border=\"1\" class=\"dataframe\">\n",
       "  <thead>\n",
       "    <tr style=\"text-align: right;\">\n",
       "      <th></th>\n",
       "      <th>ZONE ID</th>\n",
       "      <th>TYPE</th>\n",
       "      <th>OPERATING TIMES</th>\n",
       "      <th>LATITUDE</th>\n",
       "      <th>LONGITUDE</th>\n",
       "      <th>BAYS</th>\n",
       "      <th>PARKING_LIMIT</th>\n",
       "      <th>STREET</th>\n",
       "    </tr>\n",
       "  </thead>\n",
       "  <tbody>\n",
       "    <tr>\n",
       "      <th>0</th>\n",
       "      <td>0</td>\n",
       "      <td>Disability Permit Parking</td>\n",
       "      <td>5:30AM-4PM DAILY</td>\n",
       "      <td>-27.4682</td>\n",
       "      <td>153.020205</td>\n",
       "      <td>1</td>\n",
       "      <td>No Limit</td>\n",
       "      <td>Tank Street</td>\n",
       "    </tr>\n",
       "    <tr>\n",
       "      <th>1</th>\n",
       "      <td>1</td>\n",
       "      <td>Disability Permit Parking</td>\n",
       "      <td>ALL TIMES</td>\n",
       "      <td>-27.4656</td>\n",
       "      <td>153.023031</td>\n",
       "      <td>1</td>\n",
       "      <td>3 Hour</td>\n",
       "      <td>Wickham Terrace</td>\n",
       "    </tr>\n",
       "    <tr>\n",
       "      <th>2</th>\n",
       "      <td>2</td>\n",
       "      <td>Disability Permit Parking</td>\n",
       "      <td>ALL TIMES</td>\n",
       "      <td>-27.4680</td>\n",
       "      <td>153.022225</td>\n",
       "      <td>3</td>\n",
       "      <td>4 Hour</td>\n",
       "      <td>Turbot Street</td>\n",
       "    </tr>\n",
       "    <tr>\n",
       "      <th>3</th>\n",
       "      <td>3</td>\n",
       "      <td>Disability Permit Parking</td>\n",
       "      <td>ALL TIMES</td>\n",
       "      <td>-27.4646</td>\n",
       "      <td>153.025851</td>\n",
       "      <td>1</td>\n",
       "      <td>4 Hour</td>\n",
       "      <td>Wickham Terrace</td>\n",
       "    </tr>\n",
       "    <tr>\n",
       "      <th>4</th>\n",
       "      <td>4</td>\n",
       "      <td>Disability Permit Parking</td>\n",
       "      <td>ALL TIMES</td>\n",
       "      <td>-27.4646</td>\n",
       "      <td>153.026389</td>\n",
       "      <td>1</td>\n",
       "      <td>2 Hour</td>\n",
       "      <td>Wickham Terrace</td>\n",
       "    </tr>\n",
       "    <tr>\n",
       "      <th>5</th>\n",
       "      <td>5</td>\n",
       "      <td>Disability Permit Parking</td>\n",
       "      <td>ALL TIMES</td>\n",
       "      <td>-27.4667</td>\n",
       "      <td>153.027451</td>\n",
       "      <td>1</td>\n",
       "      <td>4 Hour</td>\n",
       "      <td>Adelaide Street</td>\n",
       "    </tr>\n",
       "    <tr>\n",
       "      <th>6</th>\n",
       "      <td>6</td>\n",
       "      <td>Disability Permit Parking</td>\n",
       "      <td>7PM-MIDNIGHT-4PM MON-FRI, ALL TIMES SAT-SUN</td>\n",
       "      <td>-27.4700</td>\n",
       "      <td>153.028506</td>\n",
       "      <td>2</td>\n",
       "      <td>4 Hour</td>\n",
       "      <td>Edward Street</td>\n",
       "    </tr>\n",
       "    <tr>\n",
       "      <th>7</th>\n",
       "      <td>7</td>\n",
       "      <td>Disability Permit Parking</td>\n",
       "      <td>ALL TIMES</td>\n",
       "      <td>-27.4693</td>\n",
       "      <td>153.029649</td>\n",
       "      <td>4</td>\n",
       "      <td>4 Hour</td>\n",
       "      <td>Market Street</td>\n",
       "    </tr>\n",
       "    <tr>\n",
       "      <th>8</th>\n",
       "      <td>8</td>\n",
       "      <td>Disability Permit Parking</td>\n",
       "      <td>ALL TIMES</td>\n",
       "      <td>-27.4709</td>\n",
       "      <td>153.030565</td>\n",
       "      <td>1</td>\n",
       "      <td>4 Hour</td>\n",
       "      <td>Margaret Street</td>\n",
       "    </tr>\n",
       "    <tr>\n",
       "      <th>9</th>\n",
       "      <td>9</td>\n",
       "      <td>Disability Permit Parking</td>\n",
       "      <td>ALL TIMES</td>\n",
       "      <td>-27.4725</td>\n",
       "      <td>153.028352</td>\n",
       "      <td>2</td>\n",
       "      <td>4 Hour</td>\n",
       "      <td>Margaret Street</td>\n",
       "    </tr>\n",
       "    <tr>\n",
       "      <th>10</th>\n",
       "      <td>10</td>\n",
       "      <td>Disability Permit Parking</td>\n",
       "      <td>ALL TIMES</td>\n",
       "      <td>-27.4725</td>\n",
       "      <td>153.030840</td>\n",
       "      <td>3</td>\n",
       "      <td>2 Hour</td>\n",
       "      <td>Alice Street</td>\n",
       "    </tr>\n",
       "    <tr>\n",
       "      <th>11</th>\n",
       "      <td>11</td>\n",
       "      <td>Disability Permit Parking</td>\n",
       "      <td>12AM-7AM 9AM-4PM 7PM-12AM MON-FRI, ALL TIMES S...</td>\n",
       "      <td>-27.4716</td>\n",
       "      <td>153.024626</td>\n",
       "      <td>1</td>\n",
       "      <td>3 Hour</td>\n",
       "      <td>Elizabeth Street</td>\n",
       "    </tr>\n",
       "    <tr>\n",
       "      <th>12</th>\n",
       "      <td>12</td>\n",
       "      <td>Disability Permit Parking</td>\n",
       "      <td>ALL TIMES</td>\n",
       "      <td>-27.4781</td>\n",
       "      <td>153.027486</td>\n",
       "      <td>1</td>\n",
       "      <td>2 Hour</td>\n",
       "      <td>Gardens Point Road</td>\n",
       "    </tr>\n",
       "    <tr>\n",
       "      <th>13</th>\n",
       "      <td>13</td>\n",
       "      <td>Disability Permit Parking</td>\n",
       "      <td>ALL TIMES</td>\n",
       "      <td>-27.4778</td>\n",
       "      <td>153.030224</td>\n",
       "      <td>3</td>\n",
       "      <td>No Limit</td>\n",
       "      <td>Gardens Point Road</td>\n",
       "    </tr>\n",
       "    <tr>\n",
       "      <th>14</th>\n",
       "      <td>14</td>\n",
       "      <td>Disability Permit Parking</td>\n",
       "      <td>ALL TIMES</td>\n",
       "      <td>-27.4689</td>\n",
       "      <td>153.028058</td>\n",
       "      <td>1</td>\n",
       "      <td>3 Hour</td>\n",
       "      <td>Elizabeth Street</td>\n",
       "    </tr>\n",
       "    <tr>\n",
       "      <th>15</th>\n",
       "      <td>16</td>\n",
       "      <td>Disability Permit Parking</td>\n",
       "      <td>ALL TIMES</td>\n",
       "      <td>-27.4704</td>\n",
       "      <td>153.030084</td>\n",
       "      <td>1</td>\n",
       "      <td>4 Hour</td>\n",
       "      <td>Felix Street</td>\n",
       "    </tr>\n",
       "    <tr>\n",
       "      <th>16</th>\n",
       "      <td>17</td>\n",
       "      <td>Disability Permit Parking</td>\n",
       "      <td>7PM-MIDNIGHT-4PM MON-FRI, ALL TIMES SAT-SUN</td>\n",
       "      <td>-27.4697</td>\n",
       "      <td>153.028175</td>\n",
       "      <td>2</td>\n",
       "      <td>2 Hour</td>\n",
       "      <td>Edward Street</td>\n",
       "    </tr>\n",
       "  </tbody>\n",
       "</table>\n",
       "</div>"
      ],
      "text/plain": [
       "    ZONE ID                       TYPE  \\\n",
       "0         0  Disability Permit Parking   \n",
       "1         1  Disability Permit Parking   \n",
       "2         2  Disability Permit Parking   \n",
       "3         3  Disability Permit Parking   \n",
       "4         4  Disability Permit Parking   \n",
       "5         5  Disability Permit Parking   \n",
       "6         6  Disability Permit Parking   \n",
       "7         7  Disability Permit Parking   \n",
       "8         8  Disability Permit Parking   \n",
       "9         9  Disability Permit Parking   \n",
       "10       10  Disability Permit Parking   \n",
       "11       11  Disability Permit Parking   \n",
       "12       12  Disability Permit Parking   \n",
       "13       13  Disability Permit Parking   \n",
       "14       14  Disability Permit Parking   \n",
       "15       16  Disability Permit Parking   \n",
       "16       17  Disability Permit Parking   \n",
       "\n",
       "                                      OPERATING TIMES  LATITUDE   LONGITUDE  \\\n",
       "0                                    5:30AM-4PM DAILY  -27.4682  153.020205   \n",
       "1                                           ALL TIMES  -27.4656  153.023031   \n",
       "2                                           ALL TIMES  -27.4680  153.022225   \n",
       "3                                           ALL TIMES  -27.4646  153.025851   \n",
       "4                                           ALL TIMES  -27.4646  153.026389   \n",
       "5                                           ALL TIMES  -27.4667  153.027451   \n",
       "6         7PM-MIDNIGHT-4PM MON-FRI, ALL TIMES SAT-SUN  -27.4700  153.028506   \n",
       "7                                           ALL TIMES  -27.4693  153.029649   \n",
       "8                                           ALL TIMES  -27.4709  153.030565   \n",
       "9                                           ALL TIMES  -27.4725  153.028352   \n",
       "10                                          ALL TIMES  -27.4725  153.030840   \n",
       "11  12AM-7AM 9AM-4PM 7PM-12AM MON-FRI, ALL TIMES S...  -27.4716  153.024626   \n",
       "12                                          ALL TIMES  -27.4781  153.027486   \n",
       "13                                          ALL TIMES  -27.4778  153.030224   \n",
       "14                                          ALL TIMES  -27.4689  153.028058   \n",
       "15                                          ALL TIMES  -27.4704  153.030084   \n",
       "16        7PM-MIDNIGHT-4PM MON-FRI, ALL TIMES SAT-SUN  -27.4697  153.028175   \n",
       "\n",
       "    BAYS PARKING_LIMIT              STREET  \n",
       "0      1      No Limit         Tank Street  \n",
       "1      1        3 Hour     Wickham Terrace  \n",
       "2      3        4 Hour       Turbot Street  \n",
       "3      1        4 Hour     Wickham Terrace  \n",
       "4      1        2 Hour     Wickham Terrace  \n",
       "5      1        4 Hour     Adelaide Street  \n",
       "6      2        4 Hour       Edward Street  \n",
       "7      4        4 Hour       Market Street  \n",
       "8      1        4 Hour     Margaret Street  \n",
       "9      2        4 Hour     Margaret Street  \n",
       "10     3        2 Hour        Alice Street  \n",
       "11     1        3 Hour    Elizabeth Street  \n",
       "12     1        2 Hour  Gardens Point Road  \n",
       "13     3      No Limit  Gardens Point Road  \n",
       "14     1        3 Hour    Elizabeth Street  \n",
       "15     1        4 Hour        Felix Street  \n",
       "16     2        2 Hour       Edward Street  "
      ]
     },
     "execution_count": 4,
     "metadata": {},
     "output_type": "execute_result"
    }
   ],
   "source": [
    "df.head(20)"
   ]
  },
  {
   "cell_type": "code",
   "execution_count": 5,
   "metadata": {},
   "outputs": [
    {
     "data": {
      "text/plain": [
       "ZONE ID            0\n",
       "TYPE               0\n",
       "OPERATING TIMES    0\n",
       "LATITUDE           0\n",
       "LONGITUDE          0\n",
       "BAYS               0\n",
       "PARKING_LIMIT      0\n",
       "STREET             0\n",
       "dtype: int64"
      ]
     },
     "execution_count": 5,
     "metadata": {},
     "output_type": "execute_result"
    }
   ],
   "source": [
    "df.isnull().sum()"
   ]
  },
  {
   "cell_type": "code",
   "execution_count": 6,
   "metadata": {},
   "outputs": [
    {
     "data": {
      "image/png": "[encoded data removed]",
      "text/plain": [
       "<Figure size 864x504 with 1 Axes>"
      ]
     },
     "metadata": {
      "needs_background": "light"
     },
     "output_type": "display_data"
    }
   ],
   "source": [
    "count = df['TYPE'].value_counts()\n",
    "\n",
    "x = count.index\n",
    "y = count.values\n",
    "plt.figure(figsize = (12,7))\n",
    "g = sns.barplot(x,y,palette='rocket')"
   ]
  },
  {
   "cell_type": "code",
   "execution_count": 7,
   "metadata": {},
   "outputs": [
    {
     "data": {
      "text/plain": [
       "(array([ 0,  1,  2,  3,  4,  5,  6,  7,  8,  9, 10]),\n",
       " <a list of 11 Text xticklabel objects>)"
      ]
     },
     "execution_count": 7,
     "metadata": {},
     "output_type": "execute_result"
    },
    {
     "data": {
      "image/png": "[encoded data removed]",
      "text/plain": [
       "<Figure size 864x504 with 1 Axes>"
      ]
     },
     "metadata": {
      "needs_background": "light"
     },
     "output_type": "display_data"
    }
   ],
   "source": [
    "count = df['STREET'].value_counts()\n",
    "\n",
    "x = count.index\n",
    "y = count.values\n",
    "plt.figure(figsize = (12,7))\n",
    "g = sns.barplot(x,y,palette='rocket')\n",
    "plt.xticks(rotation=45)"
   ]
  },
  {
   "cell_type": "code",
   "execution_count": 8,
   "metadata": {},
   "outputs": [
    {
     "data": {
      "text/plain": [
       "Text(0.5, 1.0, 'Number of bays')"
      ]
     },
     "execution_count": 8,
     "metadata": {},
     "output_type": "execute_result"
    },
    {
     "data": {
      "image/png": "[encoded data removed]",
      "text/plain": [
       "<Figure size 864x504 with 1 Axes>"
      ]
     },
     "metadata": {
      "needs_background": "light"
     },
     "output_type": "display_data"
    }
   ],
   "source": [
    "count = df['PARKING_LIMIT'].value_counts()\n",
    "\n",
    "x = count.index\n",
    "y = count.values\n",
    "plt.figure(figsize = (12,7))\n",
    "g = sns.barplot(x,y,palette='rocket')\n",
    "plt.title(\"Number of bays\")"
   ]
  },
  {
   "cell_type": "code",
   "execution_count": 9,
   "metadata": {},
   "outputs": [
    {
     "data": {
      "image/png": "[encoded data removed]",
      "text/plain": [
       "<Figure size 864x504 with 1 Axes>"
      ]
     },
     "metadata": {
      "needs_background": "light"
     },
     "output_type": "display_data"
    }
   ],
   "source": [
    "count = df['BAYS'].value_counts()\n",
    "\n",
    "x = count.index\n",
    "y = count.values\n",
    "plt.figure(figsize = (12,7))\n",
    "g = sns.barplot(x,y,palette='rocket')"
   ]
  },
  {
   "cell_type": "code",
   "execution_count": 10,
   "metadata": {},
   "outputs": [
    {
     "data": {
      "text/plain": [
       "(array([0, 1, 2, 3]), <a list of 4 Text xticklabel objects>)"
      ]
     },
     "execution_count": 10,
     "metadata": {},
     "output_type": "execute_result"
    },
    {
     "data": {
      "image/png": "[encoded data removed]",
      "text/plain": [
       "<Figure size 864x504 with 1 Axes>"
      ]
     },
     "metadata": {
      "needs_background": "light"
     },
     "output_type": "display_data"
    }
   ],
   "source": [
    "count = df['OPERATING TIMES'].value_counts()\n",
    "\n",
    "x = count.index\n",
    "y = count.values\n",
    "plt.figure(figsize = (12,7))\n",
    "g = sns.barplot(x,y,palette='rocket')\n",
    "plt.xticks(rotation=45)"
   ]
  },
  {
   "cell_type": "code",
   "execution_count": 20,
   "metadata": {},
   "outputs": [],
   "source": [
    "from gmplot import gmplot"
   ]
  },
  {
   "cell_type": "code",
   "execution_count": 36,
   "metadata": {},
   "outputs": [],
   "source": [
    "from gmplot import gmplot\n",
    "\n",
    "\n",
    "def map_creator(lat, long, zoom):\n",
    "    \n",
    "    \"\"\"Function to create google map at specified lat and long. \n",
    "    \n",
    "    Map will have a zoom specified by zoom variable. \n",
    "    \n",
    "    Function will return a html file with map in the same directory as code\"\"\"\n",
    "    \n",
    "    # Place map\n",
    "    gmap = gmplot.GoogleMapPlotter(lat, long, zoom)\n",
    "\n",
    "    # Polygon\n",
    "    golden_gate_park_lats, golden_gate_park_lons = zip(*[\n",
    "        (lat, long)])\n",
    "\n",
    "    gmap.plot(golden_gate_park_lats, golden_gate_park_lons, 'cornflowerblue', edge_width=10)\n",
    "\n",
    "    # Scatter points\n",
    "    top_attraction_lats, top_attraction_lons = zip(*[\n",
    "       (lat, long)\n",
    "        ])\n",
    "    gmap.scatter(top_attraction_lats, top_attraction_lons, '#3B0B39', size=40, marker=False)\n",
    "\n",
    "    # Marker\n",
    "    hidden_gem_lat, hidden_gem_lon = lat, long\n",
    "    gmap.marker(hidden_gem_lat, hidden_gem_lon, 'cornflowerblue')\n",
    "\n",
    "    # Draw\n",
    "    gmap.draw(\"my_map.html\")"
   ]
  },
  {
   "cell_type": "code",
   "execution_count": 37,
   "metadata": {},
   "outputs": [],
   "source": [
    "map_creator(df['LATITUDE'][0], df['LONGITUDE'][0], zoom = 18)"
   ]
  },
  {
   "cell_type": "code",
   "execution_count": 38,
   "metadata": {},
   "outputs": [],
   "source": [
    "map_creator(df['LATITUDE'][1], df['LONGITUDE'][1], zoom = 18)"
   ]
  },
  {
   "cell_type": "code",
   "execution_count": 39,
   "metadata": {},
   "outputs": [],
   "source": [
    "map_creator(df['LATITUDE'][2], df['LONGITUDE'][2], zoom = 18)"
   ]
  },
  {
   "cell_type": "code",
   "execution_count": null,
   "metadata": {},
   "outputs": [],
   "source": []
  }
 ],
 "metadata": {
  "kernelspec": {
   "display_name": "Python 3",
   "language": "python",
   "name": "python3"
  },
  "language_info": {
   "codemirror_mode": {
    "name": "ipython",
    "version": 3
   },
   "file_extension": ".py",
   "mimetype": "text/x-python",
   "name": "python",
   "nbconvert_exporter": "python",
   "pygments_lexer": "ipython3",
   "version": "3.7.3"
  }
 },
 "nbformat": 4,
 "nbformat_minor": 2
}
